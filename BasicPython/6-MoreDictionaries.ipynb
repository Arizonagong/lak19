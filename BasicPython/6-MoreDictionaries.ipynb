{
 "cells": [
  {
   "cell_type": "markdown",
   "metadata": {},
   "source": [
    "Review: A Python dictionary can be thought of as a mapping from a collection of keys to values. "
   ]
  },
  {
   "cell_type": "markdown",
   "metadata": {},
   "source": [
    "### 1.1 Creating Dictionaries"
   ]
  },
  {
   "cell_type": "code",
   "execution_count": 1,
   "metadata": {},
   "outputs": [],
   "source": [
    "# create an empty dictionary called writers\n",
    "writers = {}"
   ]
  },
  {
   "cell_type": "code",
   "execution_count": 2,
   "metadata": {},
   "outputs": [
    {
     "data": {
      "text/plain": [
       "dict"
      ]
     },
     "execution_count": 2,
     "metadata": {},
     "output_type": "execute_result"
    }
   ],
   "source": [
    "# verify that the data type is a dict\n",
    "type(writers)"
   ]
  },
  {
   "cell_type": "code",
   "execution_count": 3,
   "metadata": {},
   "outputs": [],
   "source": [
    "# create an empty dictionary called painters\n",
    "painters = dict()"
   ]
  },
  {
   "cell_type": "code",
   "execution_count": 4,
   "metadata": {},
   "outputs": [],
   "source": [
    "# create a populated dictionary of countries and number of world cup titles\n",
    "wc_titles = {'brazil': 5, 'germany': 4, 'italy': 4, 'argentina':2, 'uruguay': 2,\n",
    "     'france': 1, 'england': 1 }"
   ]
  },
  {
   "cell_type": "code",
   "execution_count": 5,
   "metadata": {},
   "outputs": [],
   "source": [
    "# create dictionary by zipping two lists\n",
    "colors = ['red','green','blue','grey','pink']\n",
    "state = ['noisy', 'vivid', 'calm','blah','yay' ]\n",
    "color_states = dict(zip(colors,state))"
   ]
  },
  {
   "cell_type": "code",
   "execution_count": 6,
   "metadata": {},
   "outputs": [
    {
     "data": {
      "text/plain": [
       "{'red': 'noisy',\n",
       " 'green': 'vivid',\n",
       " 'blue': 'calm',\n",
       " 'grey': 'blah',\n",
       " 'pink': 'yay'}"
      ]
     },
     "execution_count": 6,
     "metadata": {},
     "output_type": "execute_result"
    }
   ],
   "source": [
    "color_states"
   ]
  },
  {
   "cell_type": "markdown",
   "metadata": {},
   "source": [
    "### 1.2 Accessing Dictionaries"
   ]
  },
  {
   "cell_type": "code",
   "execution_count": 7,
   "metadata": {},
   "outputs": [
    {
     "data": {
      "text/plain": [
       "'blah'"
      ]
     },
     "execution_count": 7,
     "metadata": {},
     "output_type": "execute_result"
    }
   ],
   "source": [
    "# access value by key\n",
    "color_states['grey']"
   ]
  },
  {
   "cell_type": "code",
   "execution_count": 8,
   "metadata": {},
   "outputs": [
    {
     "data": {
      "text/plain": [
       "4"
      ]
     },
     "execution_count": 8,
     "metadata": {},
     "output_type": "execute_result"
    }
   ],
   "source": [
    "# access value by key\n",
    "wc_titles['italy']"
   ]
  },
  {
   "cell_type": "code",
   "execution_count": 9,
   "metadata": {},
   "outputs": [
    {
     "name": "stdout",
     "output_type": "stream",
     "text": [
      "red\n",
      "green\n",
      "blue\n",
      "grey\n",
      "pink\n"
     ]
    }
   ],
   "source": [
    "# iterating over keys\n",
    "for color in color_states:\n",
    "    print(color)"
   ]
  },
  {
   "cell_type": "code",
   "execution_count": 10,
   "metadata": {},
   "outputs": [
    {
     "name": "stdout",
     "output_type": "stream",
     "text": [
      "red\n",
      "green\n",
      "blue\n",
      "grey\n",
      "pink\n"
     ]
    }
   ],
   "source": [
    "# same as above but stating keys explicitly\n",
    "for color in color_states.keys():\n",
    "    print(color)"
   ]
  },
  {
   "cell_type": "code",
   "execution_count": 11,
   "metadata": {},
   "outputs": [
    {
     "name": "stdout",
     "output_type": "stream",
     "text": [
      "noisy\n",
      "vivid\n",
      "calm\n",
      "blah\n",
      "yay\n"
     ]
    }
   ],
   "source": [
    "# iterating over values\n",
    "for states in color_states.values():\n",
    "    print(states)"
   ]
  },
  {
   "cell_type": "code",
   "execution_count": 12,
   "metadata": {},
   "outputs": [
    {
     "name": "stdout",
     "output_type": "stream",
     "text": [
      "red noisy\n",
      "green vivid\n",
      "blue calm\n",
      "grey blah\n",
      "pink yay\n"
     ]
    }
   ],
   "source": [
    "# iterating over keys and values together\n",
    "for color, state in color_states.items():\n",
    "    print(color, state)"
   ]
  },
  {
   "cell_type": "markdown",
   "metadata": {},
   "source": [
    "### 1.2 Add new entries"
   ]
  },
  {
   "cell_type": "code",
   "execution_count": 13,
   "metadata": {},
   "outputs": [],
   "source": [
    "# add entry to painters dictionary, note value is a list\n",
    "painters['Whistler'] = ['The Princess from the Land of Porcelain', 'Symphony in White, No, 1']"
   ]
  },
  {
   "cell_type": "code",
   "execution_count": 14,
   "metadata": {},
   "outputs": [],
   "source": [
    "# add entry to painters dictionary\n",
    "painters['Van Gogh'] =['Wheatfield with Crows']"
   ]
  },
  {
   "cell_type": "code",
   "execution_count": 15,
   "metadata": {},
   "outputs": [
    {
     "data": {
      "text/plain": [
       "{'Whistler': ['The Princess from the Land of Porcelain',\n",
       "  'Symphony in White, No, 1'],\n",
       " 'Van Gogh': ['Wheatfield with Crows']}"
      ]
     },
     "execution_count": 15,
     "metadata": {},
     "output_type": "execute_result"
    }
   ],
   "source": [
    "painters"
   ]
  },
  {
   "cell_type": "code",
   "execution_count": 16,
   "metadata": {},
   "outputs": [],
   "source": [
    "# add entry to writers dict\n",
    "writers['Hemingway'] = ['Sun Also Rises', 'A Moveable Feast']"
   ]
  },
  {
   "cell_type": "code",
   "execution_count": 17,
   "metadata": {},
   "outputs": [],
   "source": [
    "# add entry to writers dict\n",
    "writers['Conrad'] = ['Nostromo']"
   ]
  },
  {
   "cell_type": "code",
   "execution_count": 18,
   "metadata": {},
   "outputs": [
    {
     "data": {
      "text/plain": [
       "'Nostromo'"
      ]
     },
     "execution_count": 18,
     "metadata": {},
     "output_type": "execute_result"
    }
   ],
   "source": [
    "# access the first item in value corresponding to Conrad\n",
    "writers['Conrad'][0] "
   ]
  },
  {
   "cell_type": "code",
   "execution_count": 19,
   "metadata": {},
   "outputs": [
    {
     "data": {
      "text/plain": [
       "'A Moveable Feast'"
      ]
     },
     "execution_count": 19,
     "metadata": {},
     "output_type": "execute_result"
    }
   ],
   "source": [
    "# access the second item in value corresponding to Hemingway\n",
    "writers['Hemingway'][1]"
   ]
  },
  {
   "cell_type": "code",
   "execution_count": 20,
   "metadata": {},
   "outputs": [
    {
     "data": {
      "text/plain": [
       "dict_keys(['Hemingway', 'Conrad'])"
      ]
     },
     "execution_count": 20,
     "metadata": {},
     "output_type": "execute_result"
    }
   ],
   "source": [
    "# access keys in writers dict\n",
    "writers.keys()"
   ]
  },
  {
   "cell_type": "code",
   "execution_count": 21,
   "metadata": {},
   "outputs": [
    {
     "data": {
      "text/plain": [
       "dict_values([['Sun Also Rises', 'A Moveable Feast'], ['Nostromo']])"
      ]
     },
     "execution_count": 21,
     "metadata": {},
     "output_type": "execute_result"
    }
   ],
   "source": [
    "# access values in writers dict\n",
    "writers.values()"
   ]
  },
  {
   "cell_type": "code",
   "execution_count": 22,
   "metadata": {},
   "outputs": [
    {
     "data": {
      "text/plain": [
       "dict_items([('Hemingway', ['Sun Also Rises', 'A Moveable Feast']), ('Conrad', ['Nostromo'])])"
      ]
     },
     "execution_count": 22,
     "metadata": {},
     "output_type": "execute_result"
    }
   ],
   "source": [
    "# access key, value pairs in writers dict\n",
    "writers.items()"
   ]
  },
  {
   "cell_type": "code",
   "execution_count": 23,
   "metadata": {},
   "outputs": [],
   "source": [
    "# append another item in the list value corresponding to 'Van Gogh' key\n",
    "painters['Van Gogh'].append('Starry Night')"
   ]
  },
  {
   "cell_type": "code",
   "execution_count": 24,
   "metadata": {},
   "outputs": [
    {
     "data": {
      "text/plain": [
       "{'Whistler': ['The Princess from the Land of Porcelain',\n",
       "  'Symphony in White, No, 1'],\n",
       " 'Van Gogh': ['Wheatfield with Crows', 'Starry Night']}"
      ]
     },
     "execution_count": 24,
     "metadata": {},
     "output_type": "execute_result"
    }
   ],
   "source": [
    "painters"
   ]
  },
  {
   "cell_type": "code",
   "execution_count": 25,
   "metadata": {},
   "outputs": [
    {
     "name": "stdout",
     "output_type": "stream",
     "text": [
      "Hemingway\n",
      "Conrad\n"
     ]
    }
   ],
   "source": [
    "# iterate over keys in writers dict\n",
    "for key in writers:\n",
    "    print(key)"
   ]
  },
  {
   "cell_type": "code",
   "execution_count": 26,
   "metadata": {},
   "outputs": [
    {
     "name": "stdout",
     "output_type": "stream",
     "text": [
      "Hemingway\n"
     ]
    }
   ],
   "source": [
    "# iterate to perform an evaluation\n",
    "for key in writers:\n",
    "    if key.startswith('H'):\n",
    "        print(key)"
   ]
  }
 ],
 "metadata": {
  "kernelspec": {
   "display_name": "Python 3",
   "language": "python",
   "name": "python3"
  },
  "language_info": {
   "codemirror_mode": {
    "name": "ipython",
    "version": 3
   },
   "file_extension": ".py",
   "mimetype": "text/x-python",
   "name": "python",
   "nbconvert_exporter": "python",
   "pygments_lexer": "ipython3",
   "version": "3.6.7"
  }
 },
 "nbformat": 4,
 "nbformat_minor": 2
}
