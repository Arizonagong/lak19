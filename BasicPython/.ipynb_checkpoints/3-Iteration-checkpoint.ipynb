{
 "cells": [
  {
   "cell_type": "markdown",
   "metadata": {},
   "source": [
    "# LAK19 - Python Bootcamp\n",
    "\n",
    "## Module: Basic Python\n",
    "\n",
    "### Instructors: Alfred Essa, Lalitha Agnihotri\n",
    "#### Teaching Assistants: Eddie Lin, Kim"
   ]
  },
  {
   "cell_type": "markdown",
   "metadata": {},
   "source": [
    "## For Loops"
   ]
  },
  {
   "cell_type": "code",
   "execution_count": 2,
   "metadata": {},
   "outputs": [],
   "source": [
    "authors = ['Stefan Zweig','William Shakespeare','Friedrich Schiller',\\\n",
    "           'Leila Slimani','Kazuo Ishiguro','Marcel Proust',\\\n",
    "           'Ernest Hemingway','Miguel Cervantes']"
   ]
  },
  {
   "cell_type": "code",
   "execution_count": 3,
   "metadata": {},
   "outputs": [
    {
     "name": "stdout",
     "output_type": "stream",
     "text": [
      "Stefan Zweig\n",
      "William Shakespeare\n",
      "Friedrich Schiller\n",
      "Leila Slimani\n",
      "Kazuo Ishiguro\n",
      "Marcel Proust\n",
      "Ernest Hemingway\n",
      "Miguel Cervantes\n"
     ]
    }
   ],
   "source": [
    "# print authors in our list \n",
    "for author in authors:\n",
    "    print(author)"
   ]
  },
  {
   "cell_type": "code",
   "execution_count": 4,
   "metadata": {},
   "outputs": [
    {
     "name": "stdout",
     "output_type": "stream",
     "text": [
      "Zweig\n",
      "Shakespeare\n",
      "Schiller\n",
      "Slimani\n",
      "Ishiguro\n",
      "Proust\n",
      "Hemingway\n",
      "Cervantes\n"
     ]
    }
   ],
   "source": [
    "# print last name of authors in our list\n",
    "for author in authors:\n",
    "    print(author.split()[1])"
   ]
  },
  {
   "cell_type": "code",
   "execution_count": 5,
   "metadata": {},
   "outputs": [],
   "source": [
    "# create a new list with length of names in our list\n",
    "lengths=[]\n",
    "for author in authors:\n",
    "    lengths.append(len(author))"
   ]
  },
  {
   "cell_type": "code",
   "execution_count": 6,
   "metadata": {},
   "outputs": [
    {
     "data": {
      "text/plain": [
       "[12, 19, 18, 13, 14, 13, 16, 16]"
      ]
     },
     "execution_count": 6,
     "metadata": {},
     "output_type": "execute_result"
    }
   ],
   "source": [
    "lengths"
   ]
  },
  {
   "cell_type": "code",
   "execution_count": 12,
   "metadata": {},
   "outputs": [],
   "source": [
    "# we create a dictionary. key is author. value is list of their works in our library.\n",
    "lib = {'Stefan Zweig': ['The World of Yesterday'],\n",
    "       'William Shakespeare': ['Hamlet','Othello','Julius Ceasar','Richard III'],\n",
    "       'Friedrich Schiller': ['Wallenstein','On the Aesthetic Education of Man'],\n",
    "       'Leila Slimani' : ['Chanson Douce'],\n",
    "       'Kazuo Ishiguro': ['Unconsoled'],\n",
    "       'Virginia Woolf': ['To the Lighthouse']}"
   ]
  },
  {
   "cell_type": "code",
   "execution_count": 13,
   "metadata": {},
   "outputs": [
    {
     "name": "stdout",
     "output_type": "stream",
     "text": [
      "Stefan Zweig ['The World of Yesterday']\n",
      "William Shakespeare ['Hamlet', 'Othello', 'Julius Ceasar', 'Richard III']\n",
      "Friedrich Schiller ['Wallenstein', 'On the Aesthetic Education of Man']\n",
      "Leila Slimani ['Chanson Douce']\n",
      "Kazuo Ishiguro ['Unconsoled']\n",
      "Virginia Woolf ['To the Lighthouse']\n"
     ]
    }
   ],
   "source": [
    "# iterate through the dictionary and print key, value pair\n",
    "for k,v in lib.items():\n",
    "    print(k,v)"
   ]
  },
  {
   "cell_type": "code",
   "execution_count": 14,
   "metadata": {},
   "outputs": [
    {
     "name": "stdout",
     "output_type": "stream",
     "text": [
      "Stefan Zweig : The World of Yesterday\n",
      "William Shakespeare : Hamlet\n",
      "Friedrich Schiller : Wallenstein\n",
      "Leila Slimani : Chanson Douce\n",
      "Kazuo Ishiguro : Unconsoled\n",
      "Virginia Woolf : To the Lighthouse\n"
     ]
    }
   ],
   "source": [
    "# iterate through the dictionary and print the author and the first work in the list\n",
    "for k,v in lib.items():\n",
    "    print(k,\":\",v[0])"
   ]
  },
  {
   "cell_type": "code",
   "execution_count": 15,
   "metadata": {},
   "outputs": [
    {
     "name": "stdout",
     "output_type": "stream",
     "text": [
      "Stefan Zweig : 1\n",
      "William Shakespeare : 4\n",
      "Friedrich Schiller : 2\n",
      "Leila Slimani : 1\n",
      "Kazuo Ishiguro : 1\n",
      "Virginia Woolf : 1\n"
     ]
    }
   ],
   "source": [
    "# iterate through dictionary, print author and the number of books we have for that author\n",
    "for k,v in lib.items():\n",
    "    print(k,\":\",len(v))"
   ]
  },
  {
   "cell_type": "code",
   "execution_count": 17,
   "metadata": {},
   "outputs": [],
   "source": [
    "# iterate through the dictionary and create a new list of all the books in the library\n",
    "my_books =[]\n",
    "for k,v in lib.items():\n",
    "    my_books.extend(v)"
   ]
  },
  {
   "cell_type": "code",
   "execution_count": 15,
   "metadata": {},
   "outputs": [
    {
     "data": {
      "text/plain": [
       "['The World of Yesterday',\n",
       " 'Hamlet',\n",
       " 'Othello',\n",
       " 'Wallenstein',\n",
       " 'On the Aesthetic Education of Man',\n",
       " 'Chanson Douce',\n",
       " 'Unconsoled',\n",
       " 'To the Lighthouse']"
      ]
     },
     "execution_count": 15,
     "metadata": {},
     "output_type": "execute_result"
    }
   ],
   "source": [
    "my_books"
   ]
  },
  {
   "cell_type": "markdown",
   "metadata": {},
   "source": [
    "### While Loop"
   ]
  },
  {
   "cell_type": "code",
   "execution_count": 21,
   "metadata": {},
   "outputs": [
    {
     "name": "stdout",
     "output_type": "stream",
     "text": [
      "Stefan Zweig\n",
      "William Shakespeare\n",
      "Friedrich Schiller\n",
      "Leila Slimani\n",
      "Kazuo Ishiguro\n"
     ]
    }
   ],
   "source": [
    "i=0\n",
    "while (authors[i]!=\"Marcel Proust\"):\n",
    "    print(authors[i])\n",
    "    i=i+1"
   ]
  },
  {
   "cell_type": "code",
   "execution_count": null,
   "metadata": {},
   "outputs": [],
   "source": []
  }
 ],
 "metadata": {
  "kernelspec": {
   "display_name": "Python 3",
   "language": "python",
   "name": "python3"
  },
  "language_info": {
   "codemirror_mode": {
    "name": "ipython",
    "version": 3
   },
   "file_extension": ".py",
   "mimetype": "text/x-python",
   "name": "python",
   "nbconvert_exporter": "python",
   "pygments_lexer": "ipython3",
   "version": "3.6.7"
  }
 },
 "nbformat": 4,
 "nbformat_minor": 2
}
