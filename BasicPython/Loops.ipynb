{
 "cells": [
  {
   "cell_type": "code",
   "execution_count": 2,
   "metadata": {},
   "outputs": [
    {
     "data": {
      "text/html": [
       "<link href='http://fonts.googleapis.com/css?family=Alegreya+Sans:100,300,400,500,700,800,900,100italic,300italic,400italic,500italic,700italic,800italic,900italic' rel='stylesheet' type='text/css'>\n",
       "<link href='http://fonts.googleapis.com/css?family=Arvo:400,700,400italic' rel='stylesheet' type='text/css'>\n",
       "<link href='http://fonts.googleapis.com/css?family=PT+Mono' rel='stylesheet' type='text/css'>\n",
       "<link href='http://fonts.googleapis.com/css?family=Shadows+Into+Light' rel='stylesheet' type='text/css'>\n",
       "<link href='http://fonts.googleapis.com/css?family=Philosopher:400,700,400italic,700italic' rel='stylesheet' type='text/css'>\n",
       "\n",
       "<style>\n",
       "\n",
       "@font-face {\n",
       "    font-family: \"Computer Modern\";\n",
       "    src: url('http://mirrors.ctan.org/fonts/cm-unicode/fonts/otf/cmunss.otf');\n",
       "}\n",
       "\n",
       "#notebook_panel { /* main background */\n",
       "    background: #ddd;\n",
       "    color: #000000;\n",
       "}\n",
       "\n",
       "\n",
       "\n",
       "/* Formatting for header cells */\n",
       ".text_cell_render h1 {\n",
       "    font-family: 'Philosopher', sans-serif;\n",
       "    font-weight: 400;\n",
       "    font-size: 2.2em;\n",
       "    line-height: 100%;\n",
       "    color: rgb(0, 80, 120);\n",
       "    margin-bottom: 0.1em;\n",
       "    margin-top: 0.1em;\n",
       "    display: block;\n",
       "}\t\n",
       ".text_cell_render h2 {\n",
       "    font-family: 'Philosopher', serif;\n",
       "    font-weight: 400;\n",
       "    font-size: 1.9em;\n",
       "    line-height: 100%;\n",
       "    color: rgb(200,100,0);\n",
       "    margin-bottom: 0.1em;\n",
       "    margin-top: 0.1em;\n",
       "    display: block;\n",
       "}\t\n",
       "\n",
       ".text_cell_render h3 {\n",
       "    font-family: 'Philosopher', serif;\n",
       "    margin-top:12px;\n",
       "    margin-bottom: 3px;\n",
       "    font-style: italic;\n",
       "    color: rgb(94,127,192);\n",
       "}\n",
       "\n",
       ".text_cell_render h4 {\n",
       "    font-family: 'Philosopher', serif;\n",
       "}\n",
       "\n",
       ".text_cell_render h5 {\n",
       "    font-family: 'Alegreya Sans', sans-serif;\n",
       "    font-weight: 300;\n",
       "    font-size: 16pt;\n",
       "    color: grey;\n",
       "    font-style: italic;\n",
       "    margin-bottom: .1em;\n",
       "    margin-top: 0.1em;\n",
       "    display: block;\n",
       "}\n",
       "\n",
       ".text_cell_render h6 {\n",
       "    font-family: 'PT Mono', sans-serif;\n",
       "    font-weight: 300;\n",
       "    font-size: 10pt;\n",
       "    color: grey;\n",
       "    margin-bottom: 1px;\n",
       "    margin-top: 1px;\n",
       "}\n",
       "\n",
       ".CodeMirror{\n",
       "        font-family: \"PT Mono\";\n",
       "        font-size: 100%;\n",
       "}\n",
       "\n",
       "</style>\n",
       "\n"
      ],
      "text/plain": [
       "<IPython.core.display.HTML object>"
      ]
     },
     "execution_count": 2,
     "metadata": {},
     "output_type": "execute_result"
    }
   ],
   "source": [
    "from IPython.core.display import HTML, Image\n",
    "css_file = '../style.css'\n",
    "HTML(open(css_file, 'r').read())"
   ]
  },
  {
   "cell_type": "markdown",
   "metadata": {},
   "source": [
    "# LAK19 - Python Bootcamp\n",
    "\n",
    "## Module: Basic Python\n",
    "\n",
    "### Instructors: Alfred Essa, Lalitha Agnihotri\n",
    "#### Teaching Assistants: Eddie Lin, Kim"
   ]
  },
  {
   "cell_type": "code",
   "execution_count": 3,
   "metadata": {},
   "outputs": [],
   "source": [
    "authors = ['Stefan Zweig','William Shakespeare','Friedrich Schiller',\\\n",
    "           'Leila Slimani','Kazuo Ishiguro','Marcel Proust',\\\n",
    "           'Ernest Hemingway','Miguel Cervantes']"
   ]
  },
  {
   "cell_type": "code",
   "execution_count": 4,
   "metadata": {},
   "outputs": [
    {
     "name": "stdout",
     "output_type": "stream",
     "text": [
      "Stefan Zweig\n",
      "William Shakespeare\n",
      "Friedrich Schiller\n",
      "Leila Slimani\n",
      "Kazuo Ishiguro\n",
      "Marcel Proust\n",
      "Ernest Hemingway\n",
      "Miguel Cervantes\n"
     ]
    }
   ],
   "source": [
    "for author in authors:\n",
    "    print(author)"
   ]
  },
  {
   "cell_type": "code",
   "execution_count": 5,
   "metadata": {},
   "outputs": [
    {
     "name": "stdout",
     "output_type": "stream",
     "text": [
      "Zweig\n",
      "Shakespeare\n",
      "Schiller\n",
      "Slimani\n",
      "Ishiguro\n",
      "Proust\n",
      "Hemingway\n",
      "Cervantes\n"
     ]
    }
   ],
   "source": [
    "for author in authors:\n",
    "    print(author.split()[1])"
   ]
  },
  {
   "cell_type": "code",
   "execution_count": 6,
   "metadata": {},
   "outputs": [],
   "source": [
    "lengths=[]\n",
    "for author in authors:\n",
    "    lengths.append(len(author))"
   ]
  },
  {
   "cell_type": "code",
   "execution_count": 7,
   "metadata": {},
   "outputs": [
    {
     "data": {
      "text/plain": [
       "[12, 19, 18, 13, 14, 13, 16, 16]"
      ]
     },
     "execution_count": 7,
     "metadata": {},
     "output_type": "execute_result"
    }
   ],
   "source": [
    "lengths"
   ]
  },
  {
   "cell_type": "code",
   "execution_count": 8,
   "metadata": {},
   "outputs": [],
   "source": [
    "lib = {'Stefan Zweig': ['The World of Yesterday'],\n",
    "       'William Shakespeare': ['Hamlet','Othello'],\n",
    "       'Friedrich Schiller': ['Wallenstein','On the Aesthetic Education of Man'],\n",
    "       'Leila Slimani' : ['Chanson Douce'],\n",
    "       'Kazuo Ishiguro': ['Unconsoled'],\n",
    "       'Virginia Woolf': ['To the Lighthouse']}"
   ]
  },
  {
   "cell_type": "code",
   "execution_count": 9,
   "metadata": {},
   "outputs": [
    {
     "name": "stdout",
     "output_type": "stream",
     "text": [
      "Stefan Zweig ['The World of Yesterday']\n",
      "William Shakespeare ['Hamlet', 'Othello']\n",
      "Friedrich Schiller ['Wallenstein', 'On the Aesthetic Education of Man']\n",
      "Leila Slimani ['Chanson Douce']\n",
      "Kazuo Ishiguro ['Unconsoled']\n",
      "Virginia Woolf ['To the Lighthouse']\n"
     ]
    }
   ],
   "source": [
    "for k,v in lib.items():\n",
    "    print(k,v)"
   ]
  },
  {
   "cell_type": "code",
   "execution_count": 10,
   "metadata": {},
   "outputs": [
    {
     "name": "stdout",
     "output_type": "stream",
     "text": [
      "Stefan Zweig : The World of Yesterday\n",
      "William Shakespeare : Hamlet\n",
      "Friedrich Schiller : Wallenstein\n",
      "Leila Slimani : Chanson Douce\n",
      "Kazuo Ishiguro : Unconsoled\n",
      "Virginia Woolf : To the Lighthouse\n"
     ]
    }
   ],
   "source": [
    "for k,v in lib.items():\n",
    "    print(k,\":\",v[0])"
   ]
  },
  {
   "cell_type": "code",
   "execution_count": 11,
   "metadata": {},
   "outputs": [
    {
     "name": "stdout",
     "output_type": "stream",
     "text": [
      "Stefan Zweig : 1\n",
      "William Shakespeare : 2\n",
      "Friedrich Schiller : 2\n",
      "Leila Slimani : 1\n",
      "Kazuo Ishiguro : 1\n",
      "Virginia Woolf : 1\n"
     ]
    }
   ],
   "source": [
    "for k,v in lib.items():\n",
    "    print(k,\":\",len(v))"
   ]
  },
  {
   "cell_type": "code",
   "execution_count": 14,
   "metadata": {},
   "outputs": [],
   "source": [
    "my_books =[]\n",
    "for k,v in lib.items():\n",
    "    my_books.extend(v)"
   ]
  },
  {
   "cell_type": "code",
   "execution_count": 15,
   "metadata": {},
   "outputs": [
    {
     "data": {
      "text/plain": [
       "['The World of Yesterday',\n",
       " 'Hamlet',\n",
       " 'Othello',\n",
       " 'Wallenstein',\n",
       " 'On the Aesthetic Education of Man',\n",
       " 'Chanson Douce',\n",
       " 'Unconsoled',\n",
       " 'To the Lighthouse']"
      ]
     },
     "execution_count": 15,
     "metadata": {},
     "output_type": "execute_result"
    }
   ],
   "source": [
    "my_books"
   ]
  }
 ],
 "metadata": {
  "kernelspec": {
   "display_name": "Python 3",
   "language": "python",
   "name": "python3"
  },
  "language_info": {
   "codemirror_mode": {
    "name": "ipython",
    "version": 3
   },
   "file_extension": ".py",
   "mimetype": "text/x-python",
   "name": "python",
   "nbconvert_exporter": "python",
   "pygments_lexer": "ipython3",
   "version": "3.6.7"
  }
 },
 "nbformat": 4,
 "nbformat_minor": 2
}
